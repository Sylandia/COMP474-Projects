{
 "cells": [
  {
   "cell_type": "code",
   "execution_count": 1,
   "metadata": {},
   "outputs": [
    {
     "ename": "ModuleNotFoundError",
     "evalue": "No module named 'spacy'",
     "output_type": "error",
     "traceback": [
      "\u001b[31m---------------------------------------------------------------------------\u001b[39m",
      "\u001b[31mModuleNotFoundError\u001b[39m                       Traceback (most recent call last)",
      "\u001b[36mCell\u001b[39m\u001b[36m \u001b[39m\u001b[32mIn[1]\u001b[39m\u001b[32m, line 1\u001b[39m\n\u001b[32m----> \u001b[39m\u001b[32m1\u001b[39m \u001b[38;5;28;01mimport\u001b[39;00m\u001b[38;5;250m \u001b[39m\u001b[34;01mspacy\u001b[39;00m\n\u001b[32m      2\u001b[39m \u001b[38;5;28;01mfrom\u001b[39;00m\u001b[38;5;250m \u001b[39m\u001b[34;01mspacy\u001b[39;00m\u001b[34;01m.\u001b[39;00m\u001b[34;01mmatcher\u001b[39;00m\u001b[38;5;250m \u001b[39m\u001b[38;5;28;01mimport\u001b[39;00m Matcher\n\u001b[32m      4\u001b[39m \u001b[38;5;66;03m# Load the model \u001b[39;00m\n",
      "\u001b[31mModuleNotFoundError\u001b[39m: No module named 'spacy'"
     ]
    }
   ],
   "source": [
    "import spacy\n",
    "from spacy.matcher import Matcher\n",
    "\n",
    "# Load the model \n",
    "nlp = spacy.load(\"en_core_web_sm\")\n",
    "\n",
    "# Initialize the matcher\n",
    "matcher = Matcher(nlp.vocab) "
   ]
  },
  {
   "cell_type": "code",
   "execution_count": 11,
   "metadata": {},
   "outputs": [],
   "source": [
    "response_dict = {\n",
    "    # Generic responses \n",
    "    \"greet\": \"Hello! How can I help you today?\",\n",
    "    \"bye\": \"Goodbye! Have a great day!\",\n",
    "    \"help\": \"I can answer your questions. Try asking about something more specific!\",\n",
    "    \"default\": \"I'm sorry, I didn't understand that. Could you rephrase?\",\n",
    "    # Java Keyword/Statement responses \n",
    "    \"for\": \"A for loop is a loop that allows you to iterate over a sequence of items. It is used to repeat a block of code a certain number of times. For example, you can use a for loop to iterate over a list of numbers and print each number to the console.\",\n",
    "    \"while\": \"A while loop is a loop that allows you to repeat a block of code as long as a certain condition is true. It is used to repeat a block of code until a condition is met. For example, you can use a while loop to repeat a block of code until a user enters a specific input.\",\n",
    "    \"if\": \"An if statement is a conditional statement that allows you to execute a block of code only if a certain condition is true. It is used to make decisions in your code. For example, you can use an if statement to check if a number is greater than 10 and print a message to the console if it is.\",\n",
    "    \"else\": \"An else statement is used in conjunction with an if statement to execute a block of code if the if condition is false. It is used to provide an alternative block of code to execute when the if condition is not met. For example, you can use an else statement to print a message to the console if a number is not greater than 10.\",\n",
    "    \"switch\": \"A switch statement is a conditional statement that allows you to execute different blocks of code based on the value of a variable. It is used to make decisions in your code with multiple possible outcomes. For example, you can use a switch statement to check the value of a variable and execute different blocks of code based on the value.\",\n",
    "    \"break\": \"A break statement is used to exit a loop or switch statement. It is used to terminate the execution of a loop or switch statement and continue with the next statement in the program. For example, you can use a break statement to exit a loop when a certain condition is met.\",\n",
    "    \"continue\": \"A continue statement is used to skip the current iteration of a loop and continue with the next iteration. It is used to skip over certain iterations of a loop based on a condition. For example, you can use a continue statement to skip over even numbers in a loop and only process odd numbers.\",\n",
    "    \"return\": \"A return statement is used to exit a function and return a value to the caller. It is used to pass a value back to the caller of a function. For example, you can use a return statement to return the result of a calculation from a function to the main program.\",\n",
    "\n",
    "}\n"
   ]
  },
  {
   "cell_type": "code",
   "execution_count": 13,
   "metadata": {},
   "outputs": [],
   "source": [
    "def get_response(user_input):\n",
    "    doc = nlp(user_input) # Tokenize the user input   \n",
    "    best_match = \"default\" # Default response initally for best match \n",
    "    matches = matcher(doc) # Find matches in the user input\n",
    "    \n",
    "    # get the best match\n",
    "    for mID, start, end in matches:\n",
    "        match_id_str = nlp.vocab[mID].text\n",
    "        if match_id_str in response_dict:\n",
    "            best_match = match_id_str\n",
    "        else:\n",
    "            best_match = \"default\"\n",
    "\n",
    "    return response_dict[best_match] # Return the response with the best match\n",
    "\n",
    "def chat():\n",
    "    print(\"Chatbot: Hello! (Type 'bye' to exit.)\")\n",
    "    while True:\n",
    "        user_input = input(\"You: \")\n",
    "        print(\"User:\", user_input)\n",
    "        if user_input.lower() == \"bye\":\n",
    "            print(\"Chatbot: Goodbye! Have a great day!\")\n",
    "            break\n",
    "        else:\n",
    "            response = get_response(user_input)\n",
    "            print(\"Chatbot:\", response)"
   ]
  },
  {
   "cell_type": "code",
   "execution_count": 21,
   "metadata": {},
   "outputs": [],
   "source": [
    "# Create pattern for matching \n",
    "keyword_patterns = { \n",
    "    \n",
    "    \"for\": [{\"LOWER\": \"for\"},],\n",
    "    \"while\": [{\"LOWER\": \"while\"},],\n",
    "    \"if\": [{\"LOWER\": \"if\"},],\n",
    "    \"else\": [{\"LOWER\": \"else\"},],\n",
    "    \"switch\": [{\"LOWER\": {\"FUZZY\":\"switch\"}},],\n",
    "    \"break\": [{\"LOWER\": {\"FUZZY\":\"break\"}},],\n",
    "    \"continue\": [{\"LOWER\": {\"FUZZY\":\"continue\"}},],\n",
    "    \"return\": [{\"LOWER\": \"return\"},],\n",
    "}\n",
    "\n",
    "# Add the patterns to the matcher\n",
    "for key, pattern in keyword_patterns.items():\n",
    "    matcher.add(key, [pattern]) # must be a list of the pattern for keyword\n",
    "\n"
   ]
  },
  {
   "cell_type": "code",
   "execution_count": null,
   "metadata": {},
   "outputs": [
    {
     "name": "stdout",
     "output_type": "stream",
     "text": [
      "Chatbot: Hello! (Type 'bye' to exit.)\n",
      "User: breaks\n",
      "Chatbot: A break statement is used to exit a loop or switch statement. It is used to terminate the execution of a loop or switch statement and continue with the next statement in the program. For example, you can use a break statement to exit a loop when a certain condition is met.\n",
      "User: how do breaks work\n",
      "Chatbot: A break statement is used to exit a loop or switch statement. It is used to terminate the execution of a loop or switch statement and continue with the next statement in the program. For example, you can use a break statement to exit a loop when a certain condition is met.\n",
      "User: \n",
      "Chatbot: I'm sorry, I didn't understand that. Could you rephrase?\n",
      "User: \n",
      "Chatbot: I'm sorry, I didn't understand that. Could you rephrase?\n",
      "User: \n",
      "Chatbot: I'm sorry, I didn't understand that. Could you rephrase?\n",
      "User: bye\n",
      "Chatbot: Goodbye! Have a great day!\n"
     ]
    }
   ],
   "source": [
    "chat()"
   ]
  },
  {
   "cell_type": "code",
   "execution_count": null,
   "metadata": {},
   "outputs": [],
   "source": [
    "\n",
    "\n"
   ]
  }
 ],
 "metadata": {
  "kernelspec": {
   "display_name": "env",
   "language": "python",
   "name": "python3"
  },
  "language_info": {
   "codemirror_mode": {
    "name": "ipython",
    "version": 3
   },
   "file_extension": ".py",
   "mimetype": "text/x-python",
   "name": "python",
   "nbconvert_exporter": "python",
   "pygments_lexer": "ipython3",
   "version": "3.11.4"
  }
 },
 "nbformat": 4,
 "nbformat_minor": 2
}
