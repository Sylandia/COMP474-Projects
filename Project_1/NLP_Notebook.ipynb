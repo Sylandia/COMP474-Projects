{
 "cells": [
  {
   "cell_type": "code",
   "execution_count": 3,
   "metadata": {},
   "outputs": [],
   "source": [
    "import spacy\n",
    "nlp = spacy.load(\"en_core_web_sm\")"
   ]
  },
  {
   "cell_type": "code",
   "execution_count": null,
   "metadata": {},
   "outputs": [],
   "source": [
    "response_dict = {\n",
    "    # Generic responses \n",
    "    \"greet\": \"Hello! How can I help you today?\",\n",
    "    \"bye\": \"Goodbye! Have a great day!\",\n",
    "    \"help\": \"I can answer your questions. Try asking about something more specific!\",\n",
    "    \"default\": \"I'm sorry, I didn't understand that. Could you rephrase?\",\n",
    "    # Java Keyword/Statement responses \n",
    "    \"for\": \"A for loop is a loop that allows you to iterate over a sequence of items. It is used to repeat a block of code a certain number of times. For example, you can use a for loop to iterate over a list of numbers and print each number to the console.\",\n",
    "    \"while\": \"A while loop is a loop that allows you to repeat a block of code as long as a certain condition is true. It is used to repeat a block of code until a condition is met. For example, you can use a while loop to repeat a block of code until a user enters a specific input.\",\n",
    "    \"if\": \"An if statement is a conditional statement that allows you to execute a block of code only if a certain condition is true. It is used to make decisions in your code. For example, you can use an if statement to check if a number is greater than 10 and print a message to the console if it is.\",\n",
    "    \"else\": \"An else statement is used in conjunction with an if statement to execute a block of code if the if condition is false. It is used to provide an alternative block of code to execute when the if condition is not met. For example, you can use an else statement to print a message to the console if a number is not greater than 10.\",\n",
    "    \"default\": \"I'm sorry, I didn't understand that. Could you rephrase?\"\n",
    "\n",
    "}\n"
   ]
  }
 ],
 "metadata": {
  "kernelspec": {
   "display_name": "env",
   "language": "python",
   "name": "python3"
  },
  "language_info": {
   "codemirror_mode": {
    "name": "ipython",
    "version": 3
   },
   "file_extension": ".py",
   "mimetype": "text/x-python",
   "name": "python",
   "nbconvert_exporter": "python",
   "pygments_lexer": "ipython3",
   "version": "3.12.9"
  }
 },
 "nbformat": 4,
 "nbformat_minor": 2
}
